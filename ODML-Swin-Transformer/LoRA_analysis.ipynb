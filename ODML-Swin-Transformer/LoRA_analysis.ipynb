{
 "cells": [
  {
   "cell_type": "code",
   "execution_count": 33,
   "metadata": {},
   "outputs": [],
   "source": [
    "%matplotlib inline\n",
    "import numpy as np\n",
    "from matplotlib import pyplot as plt\n",
    "from scipy.special import softmax\n",
    "import torch\n",
    "\n",
    "def svd(m):\n",
    "    return np.linalg.svd(m, compute_uv=False)"
   ]
  },
  {
   "cell_type": "code",
   "execution_count": 2,
   "metadata": {},
   "outputs": [
    {
     "name": "stdout",
     "output_type": "stream",
     "text": [
      "[Warning] Fused window process have not been installed. Please refer to get_started.md for installation.\n",
      "Tutel has not been installed. To use Swin-MoE, please install Tutel; otherwise, just ignore this.\n"
     ]
    }
   ],
   "source": [
    "import argparse\n",
    "from logger import create_logger\n",
    "import os\n",
    "\n",
    "\n",
    "from utils import load_checkpoint, load_pretrained\n",
    "from config import get_config\n",
    "from data import build_loader\n",
    "from models import build_model\n",
    "\n",
    "from config import get_only_config\n",
    "import json\n",
    "import copy\n",
    "import math"
   ]
  },
  {
   "cell_type": "code",
   "execution_count": 3,
   "metadata": {},
   "outputs": [],
   "source": [
    "# f = open('config_export.json')\n",
    "# config = json.load(f)"
   ]
  },
  {
   "cell_type": "code",
   "execution_count": 4,
   "metadata": {},
   "outputs": [
    {
     "name": "stdout",
     "output_type": "stream",
     "text": [
      "=> merge config from configs/swin/swin_tiny_patch4_window7_224_resisc45.yaml\n"
     ]
    }
   ],
   "source": [
    "config_path = 'configs/swin/swin_tiny_patch4_window7_224_resisc45.yaml'\n",
    "config = get_only_config(config_path)"
   ]
  },
  {
   "cell_type": "code",
   "execution_count": 5,
   "metadata": {},
   "outputs": [],
   "source": [
    "config.defrost()\n",
    "config.OUTPUT = \"/afs/ece.cmu.edu/usr/bmarimut/Private/output\"\n",
    "config.MODEL.PRETRAINED = \"/afs/ece.cmu.edu/usr/ashwinve/Public/ckpt_epoch_29_6.pth\"\n",
    "config.freeze()\n",
    "os.makedirs(config.OUTPUT, exist_ok=True)\n",
    "logger = create_logger(output_dir=config.OUTPUT, name=f\"{config.MODEL.NAME}\")\n"
   ]
  },
  {
   "cell_type": "code",
   "execution_count": 6,
   "metadata": {},
   "outputs": [
    {
     "name": "stdout",
     "output_type": "stream",
     "text": [
      "AMP_ENABLE: False\n",
      "AMP_OPT_LEVEL: \n",
      "AUG:\n",
      "  AUTO_AUGMENT: rand-m9-mstd0.5-inc1\n",
      "  COLOR_JITTER: 0.4\n",
      "  CUTMIX: 1.0\n",
      "  CUTMIX_MINMAX: None\n",
      "  MIXUP: 0.0\n",
      "  MIXUP_MODE: batch\n",
      "  MIXUP_PROB: 1.0\n",
      "  MIXUP_SWITCH_PROB: 0.5\n",
      "  RECOUNT: 1\n",
      "  REMODE: pixel\n",
      "  REPROB: 0.25\n",
      "BASE: ['']\n",
      "DATA:\n",
      "  BATCH_SIZE: 4\n",
      "  CACHE_MODE: no\n",
      "  DATASET: resisc45\n",
      "  DATA_PATH: \n",
      "  IMG_SIZE: 224\n",
      "  INTERPOLATION: bicubic\n",
      "  MASK_PATCH_SIZE: 32\n",
      "  MASK_RATIO: 0.6\n",
      "  NUM_WORKERS: 1\n",
      "  PIN_MEMORY: False\n",
      "  ZIP_MODE: True\n",
      "ENABLE_AMP: False\n",
      "EVAL_MODE: False\n",
      "FUSED_LAYERNORM: False\n",
      "FUSED_WINDOW_PROCESS: False\n",
      "LOCAL_RANK: 0\n",
      "MODEL:\n",
      "  DROP_PATH_RATE: 0.2\n",
      "  DROP_RATE: 0.0\n",
      "  LABEL_SMOOTHING: 0.0\n",
      "  NAME: swin_tiny_patch4_window7_224_resisc45\n",
      "  NUM_CLASSES: 45\n",
      "  PRETRAINED: /afs/ece.cmu.edu/usr/ashwinve/Public/ckpt_epoch_29_6.pth\n",
      "  RESUME: \n",
      "  SIMMIM:\n",
      "    NORM_TARGET:\n",
      "      ENABLE: False\n",
      "      PATCH_SIZE: 47\n",
      "  SWIN:\n",
      "    APE: False\n",
      "    DEPTHS: [2, 2, 6, 2]\n",
      "    EMBED_DIM: 96\n",
      "    FREEZE_AUTHOR_METHOD: False\n",
      "    FREEZE_LAYERS: True\n",
      "    FREEZE_LAYER_INDEX: [0, 2, 3]\n",
      "    IN_CHANS: 3\n",
      "    MLP_RATIO: 4.0\n",
      "    NUM_HEADS: [3, 6, 12, 24]\n",
      "    PATCH_NORM: True\n",
      "    PATCH_SIZE: 4\n",
      "    QKV_BIAS: True\n",
      "    QK_SCALE: None\n",
      "    WINDOW_SIZE: 7\n",
      "  SWINV2:\n",
      "    APE: False\n",
      "    DEPTHS: [2, 2, 6, 2]\n",
      "    EMBED_DIM: 96\n",
      "    IN_CHANS: 3\n",
      "    MLP_RATIO: 4.0\n",
      "    NUM_HEADS: [3, 6, 12, 24]\n",
      "    PATCH_NORM: True\n",
      "    PATCH_SIZE: 4\n",
      "    PRETRAINED_WINDOW_SIZES: [0, 0, 0, 0]\n",
      "    QKV_BIAS: True\n",
      "    WINDOW_SIZE: 7\n",
      "  SWIN_MLP:\n",
      "    APE: False\n",
      "    DEPTHS: [2, 2, 6, 2]\n",
      "    EMBED_DIM: 96\n",
      "    IN_CHANS: 3\n",
      "    MLP_RATIO: 4.0\n",
      "    NUM_HEADS: [3, 6, 12, 24]\n",
      "    PATCH_NORM: True\n",
      "    PATCH_SIZE: 4\n",
      "    WINDOW_SIZE: 7\n",
      "  SWIN_MOE:\n",
      "    APE: False\n",
      "    AUX_LOSS_WEIGHT: 0.01\n",
      "    CAPACITY_FACTOR: 1.25\n",
      "    COSINE_ROUTER: False\n",
      "    COSINE_ROUTER_DIM: 256\n",
      "    COSINE_ROUTER_INIT_T: 0.5\n",
      "    DEPTHS: [2, 2, 6, 2]\n",
      "    EMBED_DIM: 96\n",
      "    GATE_NOISE: 1.0\n",
      "    INIT_STD: 0.02\n",
      "    IN_CHANS: 3\n",
      "    IS_GSHARD_LOSS: False\n",
      "    MLP_FC2_BIAS: True\n",
      "    MLP_RATIO: 4.0\n",
      "    MOE_BLOCKS: [[-1], [-1], [-1], [-1]]\n",
      "    MOE_DROP: 0.0\n",
      "    NORMALIZE_GATE: False\n",
      "    NUM_HEADS: [3, 6, 12, 24]\n",
      "    NUM_LOCAL_EXPERTS: 1\n",
      "    PATCH_NORM: True\n",
      "    PATCH_SIZE: 4\n",
      "    PRETRAINED_WINDOW_SIZES: [0, 0, 0, 0]\n",
      "    QKV_BIAS: True\n",
      "    QK_SCALE: None\n",
      "    TOP_VALUE: 1\n",
      "    USE_BPR: True\n",
      "    WINDOW_SIZE: 7\n",
      "  TYPE: swin\n",
      "OUTPUT: /afs/ece.cmu.edu/usr/bmarimut/Private/output\n",
      "PRINT_FREQ: 10\n",
      "SAVE_FREQ: 1\n",
      "SEED: 0\n",
      "TAG: default\n",
      "TEST:\n",
      "  CROP: True\n",
      "  SEQUENTIAL: True\n",
      "  SHUFFLE: False\n",
      "THROUGHPUT_MODE: False\n",
      "TRAIN:\n",
      "  ACCUMULATION_STEPS: 1\n",
      "  AUTO_RESUME: False\n",
      "  BASE_LR: 0.0001\n",
      "  CLIP_GRAD: 2.5\n",
      "  EPOCHS: 30\n",
      "  LAYER_DECAY: 1.0\n",
      "  LR_SCHEDULER:\n",
      "    DECAY_EPOCHS: 30\n",
      "    DECAY_RATE: 0.1\n",
      "    GAMMA: 0.1\n",
      "    MULTISTEPS: []\n",
      "    NAME: cosine\n",
      "    STEP_EPOCH: 0\n",
      "    WARMUP_PREFIX: False\n",
      "  MIN_LR: 5e-08\n",
      "  MOE:\n",
      "    SAVE_MASTER: False\n",
      "  OMIT_LR_STATE_DICT: True\n",
      "  OPTIMIZER:\n",
      "    BETAS: (0.9, 0.999)\n",
      "    EPS: 1e-08\n",
      "    MOMENTUM: 0.9\n",
      "    NAME: sgd\n",
      "  START_EPOCH: 0\n",
      "  THROW_MLP_SD: False\n",
      "  USE_CHECKPOINT: False\n",
      "  WARMUP_EPOCHS: 0\n",
      "  WARMUP_LR: 1e-05\n",
      "  WEIGHT_DECAY: 5e-05\n",
      "USE_Distributed_Data_Parallel: False\n"
     ]
    }
   ],
   "source": [
    "print(config)"
   ]
  },
  {
   "cell_type": "code",
   "execution_count": 6,
   "metadata": {},
   "outputs": [
    {
     "name": "stderr",
     "output_type": "stream",
     "text": [
      "/afs/andrew.cmu.edu/usr8/bmarimut/.local/lib/python3.6/site-packages/torch/functional.py:445: UserWarning: torch.meshgrid: in an upcoming release, it will be required to pass the indexing argument. (Triggered internally at  ../aten/src/ATen/native/TensorShape.cpp:2157.)\n",
      "  return _VF.meshgrid(tensors, **kwargs)  # type: ignore[attr-defined]\n"
     ]
    }
   ],
   "source": [
    "model = build_model(config)"
   ]
  },
  {
   "cell_type": "code",
   "execution_count": 7,
   "metadata": {},
   "outputs": [
    {
     "name": "stdout",
     "output_type": "stream",
     "text": [
      "\u001b[32m[2022-12-05 16:04:19 swin_tiny_patch4_window7_224_resisc45]\u001b[0m\u001b[33m(utils.py 58)\u001b[0m: INFO ==============> Loading weight /afs/ece.cmu.edu/usr/ashwinve/Public/ckpt_epoch_29_6.pth for fine-tuning......\n",
      "\u001b[32m[2022-12-05 16:04:19 swin_tiny_patch4_window7_224_resisc45]\u001b[0m\u001b[33m(utils.py 139)\u001b[0m: WARNING _IncompatibleKeys(missing_keys=['layers.0.blocks.0.attn.relative_position_index', 'layers.0.blocks.0.attn.lora_k.weight', 'layers.0.blocks.0.attn.lora_v.weight', 'layers.0.blocks.0.attn.lora_rpb.weight', 'layers.0.blocks.1.attn_mask', 'layers.0.blocks.1.attn.relative_position_index', 'layers.1.blocks.0.attn.relative_position_index', 'layers.1.blocks.0.attn.lora_k.weight', 'layers.1.blocks.0.attn.lora_v.weight', 'layers.1.blocks.0.attn.lora_rpb.weight', 'layers.1.blocks.1.attn_mask', 'layers.1.blocks.1.attn.relative_position_index', 'layers.2.blocks.0.attn.relative_position_index', 'layers.2.blocks.0.attn.lora_k.weight', 'layers.2.blocks.0.attn.lora_v.weight', 'layers.2.blocks.0.attn.lora_rpb.weight', 'layers.2.blocks.1.attn_mask', 'layers.2.blocks.1.attn.relative_position_index', 'layers.2.blocks.2.attn.relative_position_index', 'layers.2.blocks.2.attn.lora_k.weight', 'layers.2.blocks.2.attn.lora_v.weight', 'layers.2.blocks.2.attn.lora_rpb.weight', 'layers.2.blocks.3.attn_mask', 'layers.2.blocks.3.attn.relative_position_index', 'layers.2.blocks.4.attn.relative_position_index', 'layers.2.blocks.4.attn.lora_k.weight', 'layers.2.blocks.4.attn.lora_v.weight', 'layers.2.blocks.4.attn.lora_rpb.weight', 'layers.2.blocks.5.attn_mask', 'layers.2.blocks.5.attn.relative_position_index', 'layers.3.blocks.0.attn.relative_position_index', 'layers.3.blocks.0.attn.lora_k.weight', 'layers.3.blocks.0.attn.lora_v.weight', 'layers.3.blocks.0.attn.lora_rpb.weight', 'layers.3.blocks.1.attn.relative_position_index'], unexpected_keys=[])\n",
      "\u001b[32m[2022-12-05 16:04:19 swin_tiny_patch4_window7_224_resisc45]\u001b[0m\u001b[33m(utils.py 141)\u001b[0m: INFO => loaded successfully '/afs/ece.cmu.edu/usr/ashwinve/Public/ckpt_epoch_29_6.pth'\n"
     ]
    }
   ],
   "source": [
    "load_pretrained(config, model, logger)"
   ]
  },
  {
   "cell_type": "code",
   "execution_count": null,
   "metadata": {},
   "outputs": [],
   "source": [
    "model"
   ]
  },
  {
   "cell_type": "code",
   "execution_count": 11,
   "metadata": {},
   "outputs": [
    {
     "data": {
      "text/plain": [
       "odict_keys(['patch_embed.proj.weight', 'patch_embed.proj.bias', 'patch_embed.norm.weight', 'patch_embed.norm.bias', 'layers.0.blocks.0.norm1.weight', 'layers.0.blocks.0.norm1.bias', 'layers.0.blocks.0.attn.relative_position_bias_table', 'layers.0.blocks.0.attn.relative_position_index', 'layers.0.blocks.0.attn.qkv.weight', 'layers.0.blocks.0.attn.qkv.bias', 'layers.0.blocks.0.attn.proj.weight', 'layers.0.blocks.0.attn.proj.bias', 'layers.0.blocks.0.norm2.weight', 'layers.0.blocks.0.norm2.bias', 'layers.0.blocks.0.mlp.fc1.weight', 'layers.0.blocks.0.mlp.fc1.bias', 'layers.0.blocks.0.mlp.fc2.weight', 'layers.0.blocks.0.mlp.fc2.bias', 'layers.0.blocks.1.attn_mask', 'layers.0.blocks.1.norm1.weight', 'layers.0.blocks.1.norm1.bias', 'layers.0.blocks.1.attn.relative_position_bias_table', 'layers.0.blocks.1.attn.relative_position_index', 'layers.0.blocks.1.attn.qkv.weight', 'layers.0.blocks.1.attn.qkv.bias', 'layers.0.blocks.1.attn.proj.weight', 'layers.0.blocks.1.attn.proj.bias', 'layers.0.blocks.1.norm2.weight', 'layers.0.blocks.1.norm2.bias', 'layers.0.blocks.1.mlp.fc1.weight', 'layers.0.blocks.1.mlp.fc1.bias', 'layers.0.blocks.1.mlp.fc2.weight', 'layers.0.blocks.1.mlp.fc2.bias', 'layers.0.downsample.reduction.weight', 'layers.0.downsample.norm.weight', 'layers.0.downsample.norm.bias', 'layers.1.blocks.0.norm1.weight', 'layers.1.blocks.0.norm1.bias', 'layers.1.blocks.0.attn.relative_position_bias_table', 'layers.1.blocks.0.attn.relative_position_index', 'layers.1.blocks.0.attn.qkv.weight', 'layers.1.blocks.0.attn.qkv.bias', 'layers.1.blocks.0.attn.proj.weight', 'layers.1.blocks.0.attn.proj.bias', 'layers.1.blocks.0.norm2.weight', 'layers.1.blocks.0.norm2.bias', 'layers.1.blocks.0.mlp.fc1.weight', 'layers.1.blocks.0.mlp.fc1.bias', 'layers.1.blocks.0.mlp.fc2.weight', 'layers.1.blocks.0.mlp.fc2.bias', 'layers.1.blocks.1.attn_mask', 'layers.1.blocks.1.norm1.weight', 'layers.1.blocks.1.norm1.bias', 'layers.1.blocks.1.attn.relative_position_bias_table', 'layers.1.blocks.1.attn.relative_position_index', 'layers.1.blocks.1.attn.qkv.weight', 'layers.1.blocks.1.attn.qkv.bias', 'layers.1.blocks.1.attn.proj.weight', 'layers.1.blocks.1.attn.proj.bias', 'layers.1.blocks.1.norm2.weight', 'layers.1.blocks.1.norm2.bias', 'layers.1.blocks.1.mlp.fc1.weight', 'layers.1.blocks.1.mlp.fc1.bias', 'layers.1.blocks.1.mlp.fc2.weight', 'layers.1.blocks.1.mlp.fc2.bias', 'layers.1.downsample.reduction.weight', 'layers.1.downsample.norm.weight', 'layers.1.downsample.norm.bias', 'layers.2.blocks.0.norm1.weight', 'layers.2.blocks.0.norm1.bias', 'layers.2.blocks.0.attn.relative_position_bias_table', 'layers.2.blocks.0.attn.relative_position_index', 'layers.2.blocks.0.attn.qkv.weight', 'layers.2.blocks.0.attn.qkv.bias', 'layers.2.blocks.0.attn.proj.weight', 'layers.2.blocks.0.attn.proj.bias', 'layers.2.blocks.0.norm2.weight', 'layers.2.blocks.0.norm2.bias', 'layers.2.blocks.0.mlp.fc1.weight', 'layers.2.blocks.0.mlp.fc1.bias', 'layers.2.blocks.0.mlp.fc2.weight', 'layers.2.blocks.0.mlp.fc2.bias', 'layers.2.blocks.1.attn_mask', 'layers.2.blocks.1.norm1.weight', 'layers.2.blocks.1.norm1.bias', 'layers.2.blocks.1.attn.relative_position_bias_table', 'layers.2.blocks.1.attn.relative_position_index', 'layers.2.blocks.1.attn.qkv.weight', 'layers.2.blocks.1.attn.qkv.bias', 'layers.2.blocks.1.attn.proj.weight', 'layers.2.blocks.1.attn.proj.bias', 'layers.2.blocks.1.norm2.weight', 'layers.2.blocks.1.norm2.bias', 'layers.2.blocks.1.mlp.fc1.weight', 'layers.2.blocks.1.mlp.fc1.bias', 'layers.2.blocks.1.mlp.fc2.weight', 'layers.2.blocks.1.mlp.fc2.bias', 'layers.2.blocks.2.norm1.weight', 'layers.2.blocks.2.norm1.bias', 'layers.2.blocks.2.attn.relative_position_bias_table', 'layers.2.blocks.2.attn.relative_position_index', 'layers.2.blocks.2.attn.qkv.weight', 'layers.2.blocks.2.attn.qkv.bias', 'layers.2.blocks.2.attn.proj.weight', 'layers.2.blocks.2.attn.proj.bias', 'layers.2.blocks.2.norm2.weight', 'layers.2.blocks.2.norm2.bias', 'layers.2.blocks.2.mlp.fc1.weight', 'layers.2.blocks.2.mlp.fc1.bias', 'layers.2.blocks.2.mlp.fc2.weight', 'layers.2.blocks.2.mlp.fc2.bias', 'layers.2.blocks.3.attn_mask', 'layers.2.blocks.3.norm1.weight', 'layers.2.blocks.3.norm1.bias', 'layers.2.blocks.3.attn.relative_position_bias_table', 'layers.2.blocks.3.attn.relative_position_index', 'layers.2.blocks.3.attn.qkv.weight', 'layers.2.blocks.3.attn.qkv.bias', 'layers.2.blocks.3.attn.proj.weight', 'layers.2.blocks.3.attn.proj.bias', 'layers.2.blocks.3.norm2.weight', 'layers.2.blocks.3.norm2.bias', 'layers.2.blocks.3.mlp.fc1.weight', 'layers.2.blocks.3.mlp.fc1.bias', 'layers.2.blocks.3.mlp.fc2.weight', 'layers.2.blocks.3.mlp.fc2.bias', 'layers.2.blocks.4.norm1.weight', 'layers.2.blocks.4.norm1.bias', 'layers.2.blocks.4.attn.relative_position_bias_table', 'layers.2.blocks.4.attn.relative_position_index', 'layers.2.blocks.4.attn.qkv.weight', 'layers.2.blocks.4.attn.qkv.bias', 'layers.2.blocks.4.attn.proj.weight', 'layers.2.blocks.4.attn.proj.bias', 'layers.2.blocks.4.norm2.weight', 'layers.2.blocks.4.norm2.bias', 'layers.2.blocks.4.mlp.fc1.weight', 'layers.2.blocks.4.mlp.fc1.bias', 'layers.2.blocks.4.mlp.fc2.weight', 'layers.2.blocks.4.mlp.fc2.bias', 'layers.2.blocks.5.attn_mask', 'layers.2.blocks.5.norm1.weight', 'layers.2.blocks.5.norm1.bias', 'layers.2.blocks.5.attn.relative_position_bias_table', 'layers.2.blocks.5.attn.relative_position_index', 'layers.2.blocks.5.attn.qkv.weight', 'layers.2.blocks.5.attn.qkv.bias', 'layers.2.blocks.5.attn.proj.weight', 'layers.2.blocks.5.attn.proj.bias', 'layers.2.blocks.5.norm2.weight', 'layers.2.blocks.5.norm2.bias', 'layers.2.blocks.5.mlp.fc1.weight', 'layers.2.blocks.5.mlp.fc1.bias', 'layers.2.blocks.5.mlp.fc2.weight', 'layers.2.blocks.5.mlp.fc2.bias', 'layers.2.downsample.reduction.weight', 'layers.2.downsample.norm.weight', 'layers.2.downsample.norm.bias', 'layers.3.blocks.0.norm1.weight', 'layers.3.blocks.0.norm1.bias', 'layers.3.blocks.0.attn.relative_position_bias_table', 'layers.3.blocks.0.attn.relative_position_index', 'layers.3.blocks.0.attn.qkv.weight', 'layers.3.blocks.0.attn.qkv.bias', 'layers.3.blocks.0.attn.proj.weight', 'layers.3.blocks.0.attn.proj.bias', 'layers.3.blocks.0.norm2.weight', 'layers.3.blocks.0.norm2.bias', 'layers.3.blocks.0.mlp.fc1.weight', 'layers.3.blocks.0.mlp.fc1.bias', 'layers.3.blocks.0.mlp.fc2.weight', 'layers.3.blocks.0.mlp.fc2.bias', 'layers.3.blocks.1.norm1.weight', 'layers.3.blocks.1.norm1.bias', 'layers.3.blocks.1.attn.relative_position_bias_table', 'layers.3.blocks.1.attn.relative_position_index', 'layers.3.blocks.1.attn.qkv.weight', 'layers.3.blocks.1.attn.qkv.bias', 'layers.3.blocks.1.attn.proj.weight', 'layers.3.blocks.1.attn.proj.bias', 'layers.3.blocks.1.norm2.weight', 'layers.3.blocks.1.norm2.bias', 'layers.3.blocks.1.mlp.fc1.weight', 'layers.3.blocks.1.mlp.fc1.bias', 'layers.3.blocks.1.mlp.fc2.weight', 'layers.3.blocks.1.mlp.fc2.bias', 'norm.weight', 'norm.bias', 'head.weight', 'head.bias'])"
      ]
     },
     "execution_count": 11,
     "metadata": {},
     "output_type": "execute_result"
    }
   ],
   "source": [
    "model.state_dict().keys()"
   ]
  },
  {
   "cell_type": "code",
   "execution_count": 40,
   "metadata": {},
   "outputs": [],
   "source": [
    "layers_3_blocks_0_attn_qkv_weight = model.state_dict()['layers.3.blocks.0.attn.qkv.weight']"
   ]
  },
  {
   "cell_type": "code",
   "execution_count": 8,
   "metadata": {},
   "outputs": [],
   "source": [
    "def window_partition(x, window_size):\n",
    "    \"\"\"\n",
    "    Args:\n",
    "        x: (B, H, W, C)\n",
    "        window_size (int): window size\n",
    "\n",
    "    Returns:\n",
    "        windows: (num_windows*B, window_size, window_size, C)\n",
    "    \"\"\"\n",
    "    B, H, W, C = x.shape\n",
    "    x = x.view(B, H // window_size, window_size, W // window_size, window_size, C)\n",
    "    windows = x.permute(0, 1, 3, 2, 4, 5).contiguous().view(-1, window_size, window_size, C)\n",
    "\n",
    "    return windows"
   ]
  },
  {
   "cell_type": "code",
   "execution_count": 9,
   "metadata": {},
   "outputs": [],
   "source": [
    "\n",
    "LAYER_DEPTHS = [2, 2, 6, 2]\n",
    "NUM_LAYERS = len(LAYER_DEPTHS)\n",
    "NUM_HEADS = [ 3, 6, 12, 24 ]\n",
    "i = 3\n",
    "H = 224\n",
    "W = 224\n",
    "B = 1\n",
    "L = 224 * 224\n",
    "C = 96 * 2**i\n",
    "num_heads = NUM_HEADS[i]\n",
    "dim = C\n",
    "window_size = 7\n",
    "\n",
    "# x = np.random.rand(B, H, W, C)\n",
    "x = torch.tensor(np.random.randint(0, 256, size=(B, H, W, C)))\n",
    "# x = np.random.normal(size=(B, H, W, C))\n",
    "\n",
    "x_windows = window_partition(x, window_size)"
   ]
  },
  {
   "cell_type": "code",
   "execution_count": 10,
   "metadata": {},
   "outputs": [],
   "source": [
    "class attn_model(torch.nn.Module):\n",
    "    def __init__(self, i, H, W, B, L, C, num_heads, window_size, dim):\n",
    "        super(attn_model, self).__init__()\n",
    "        \n",
    "        self.i = i\n",
    "        self.H = H\n",
    "        self.W = W\n",
    "        self.B = B\n",
    "        self.L = L\n",
    "        self.C = C\n",
    "        self.num_heads = num_heads\n",
    "        self.window_size = window_size\n",
    "        head_dim = dim // num_heads\n",
    "        self.scale = head_dim ** -0.5\n",
    "        proj_drop = 0\n",
    "\n",
    "\n",
    "        self.qkv_layer = torch.nn.Linear(C, C * 3, bias=True)\n",
    "        self.relative_position_bias_table = torch.nn.Parameter(\n",
    "            torch.zeros((2 * window_size - 1) * (2 * window_size - 1), num_heads))  # 2*Wh-1 * 2*Ww-1, nH\n",
    "        # self.proj = torch.nn.Linear(dim, dim)\n",
    "        # self.proj_drop = torch.nn.Dropout(proj_drop)\n",
    "\n",
    "        self.softmax = torch.nn.Softmax(dim=-1)\n",
    "\n",
    "        # get pair-wise relative position index for each token inside the window\n",
    "        coords_h = torch.arange(self.window_size)\n",
    "        coords_w = torch.arange(self.window_size)\n",
    "        coords = torch.stack(torch.meshgrid([coords_h, coords_w]))  # 2, Wh, Ww\n",
    "        coords_flatten = torch.flatten(coords, 1)  # 2, Wh*Ww\n",
    "        relative_coords = coords_flatten[:, :, None] - coords_flatten[:, None, :]  # 2, Wh*Ww, Wh*Ww\n",
    "        relative_coords = relative_coords.permute(1, 2, 0).contiguous()  # Wh*Ww, Wh*Ww, 2\n",
    "        relative_coords[:, :, 0] += self.window_size - 1  # shift to start from 0\n",
    "        relative_coords[:, :, 1] += self.window_size - 1\n",
    "        relative_coords[:, :, 0] *= 2 * self.window_size - 1\n",
    "        relative_position_index = relative_coords.sum(-1)  # Wh*Ww, Wh*Ww\n",
    "        self.register_buffer(\"relative_position_index\", relative_position_index)\n",
    "\n",
    "\n",
    "    def load_pretrained_weights(self, params_names_list, super_model):\n",
    "        new_sd = copy.deepcopy(self.state_dict())\n",
    "        for name in params_names_list:\n",
    "            new_sd['qkv_layer.weight'] = super_model.state_dict()[name+'.qkv.weight']\n",
    "            new_sd['qkv_layer.bias'] = super_model.state_dict()[name+'.qkv.bias']\n",
    "        \n",
    "        new_sd['relative_position_bias_table'] = super_model.state_dict()[name+'.relative_position_bias_table']\n",
    "        \n",
    "        self.load_state_dict(new_sd)\n",
    "\n",
    "    def forward(self, x):\n",
    "        x_windows = window_partition(x, self.window_size)\n",
    "        x_windows = x_windows.view(-1, self.window_size * self.window_size, self.C)\n",
    "        B_, N_, C_ = x_windows.shape\n",
    "        #  Xn @ x_windows\n",
    "        print(\" x_windows shape \", x_windows.shape)\n",
    "        qkv = self.qkv_layer(x_windows)\n",
    "        qkv = qkv.reshape(B_, N_, 3, num_heads, C_ // num_heads).permute(2, 0, 3, 1, 4)\n",
    "        q, k, v = qkv[0], qkv[1], qkv[2]\n",
    "        print(\" q : \", q.shape)\n",
    "        print(\" k : \", k.shape)\n",
    "        print(\" v : \", v.shape)\n",
    "        q = q * self.scale\n",
    "        attn = (q @ k.transpose(-2, -1))\n",
    "        print(\"attn : \", attn.shape)\n",
    "        x = (attn @ v).transpose(1, 2).reshape(B_, N_, C_)\n",
    "        # x = self.proj(x)\n",
    "        # x = self.proj_drop(x)\n",
    "        relative_position_bias = self.relative_position_bias_table[self.relative_position_index.view(-1)].view(\n",
    "            self.window_size * self.window_size, self.window_size * self.window_size, -1)  # Wh*Ww,Wh*Ww,nH\n",
    "        relative_position_bias = relative_position_bias.permute(2, 0, 1).contiguous()  # nH, Wh*Ww, Wh*Ww\n",
    "        attn = attn + relative_position_bias.unsqueeze(0)\n",
    "\n",
    "        flops = 0\n",
    "        # transform : k @ lora_k\n",
    "        # flops += k.shape[0] * k.shape[1] * 2 * k.shape[2] * k.shape[3] * k_lora.shape[3]\n",
    "        # attn: q @ k_lora\n",
    "        flops += q.shape[0] * q.shape[1] * 2 * q.shape[2] * q.shape[3] * k.transpose(-2, -1).shape[3]\n",
    "        # transform : v @ v_lora\n",
    "        # flops += v.shape[0] * v.shape[1] * 2 * v.shape[2] * v.shape[3] * v_lora.shape[3]\n",
    "        # op : attn @ v_lora\n",
    "        flops += attn.shape[0] * attn.shape[1] * 2 * attn.shape[2] * attn.shape[3] * v.shape[3]\n",
    "\n",
    "        return self.softmax(attn), q, k, v, x, flops\n"
   ]
  },
  {
   "cell_type": "code",
   "execution_count": null,
   "metadata": {},
   "outputs": [],
   "source": [
    "out_dict = {}\n",
    "\n",
    "cutoff_across_windows = 80\n",
    "cutoff_across_heads_1 = 80\n",
    "cutoff_across_heads_2 = 90\n",
    "\n",
    "\n",
    "for layer_id in range(NUM_LAYERS):\n",
    "    for block_id in range(LAYER_DEPTHS[layer_id]):\n",
    "        C = 96 * 2**layer_id\n",
    "        num_heads = NUM_HEADS[layer_id]\n",
    "        dim = C\n",
    "        my_model = attn_model(layer_id, H, W, B, L, C, num_heads, window_size, dim)\n",
    "        param_name = ['layers.' + str(layer_id) + \".blocks.\" + str(block_id) + \".attn\"]\n",
    "        print(param_name)\n",
    "        my_model.load_pretrained_weights(param_name, model)\n",
    "        x = torch.tensor(np.random.randint(0, 256, size=(B, H, W, C)), dtype=torch.float)\n",
    "        attn_op, q, k, v, x = my_model(x)\n",
    "        attn_op = attn_op.detach().numpy()\n",
    "        attn_op = attn_op.transpose(1, 0, 2, 3)\n",
    "        across_heads_x = []\n",
    "        for j in range(0, attn_op.shape[0], 1):\n",
    "            x = []\n",
    "            y = []\n",
    "            for i in range(0, attn_op.shape[1], 1):\n",
    "                a = np.cumsum(svd(attn_op[j][i]))\n",
    "                # print(len(a))\n",
    "                idx = np.argmax(a)\n",
    "                x.append(idx)\n",
    "                y.append(a[idx])\n",
    "                # plt.plot(a[idx], label = \"attn output\")\n",
    "            across_heads_x.append(np.percentile(x,cutoff_across_windows))\n",
    "            out_dict[param_name[0]] = [np.mean(across_heads_x), np.percentile(across_heads_x, cutoff_across_heads_1), np.percentile(across_heads_x, cutoff_across_heads_2)]"
   ]
  },
  {
   "cell_type": "code",
   "execution_count": 29,
   "metadata": {},
   "outputs": [
    {
     "data": {
      "text/plain": [
       "{'layers.0.blocks.0.attn': [9.0, 12.000000000000002, 13.0],\n",
       " 'layers.0.blocks.1.attn': [28.333333333333332, 35.400000000000006, 38.2],\n",
       " 'layers.1.blocks.0.attn': [24.333333333333332, 32.0, 39.0],\n",
       " 'layers.1.blocks.1.attn': [19.0, 22.0, 23.0],\n",
       " 'layers.2.blocks.0.attn': [16.333333333333332, 18.0, 18.900000000000002],\n",
       " 'layers.2.blocks.1.attn': [19.5, 21.8, 22.0],\n",
       " 'layers.2.blocks.2.attn': [21.583333333333332, 25.6, 29.6],\n",
       " 'layers.2.blocks.3.attn': [21.916666666666668, 25.200000000000003, 26.0],\n",
       " 'layers.2.blocks.4.attn': [23.5, 23.8, 24.9],\n",
       " 'layers.2.blocks.5.attn': [22.75, 23.8, 24.0],\n",
       " 'layers.3.blocks.0.attn': [20.208333333333332, 21.0, 22.4],\n",
       " 'layers.3.blocks.1.attn': [16.225000000000005, 16.0, 17.280000000000065]}"
      ]
     },
     "execution_count": 29,
     "metadata": {},
     "output_type": "execute_result"
    }
   ],
   "source": [
    "out_dict"
   ]
  },
  {
   "cell_type": "code",
   "execution_count": 31,
   "metadata": {},
   "outputs": [],
   "source": [
    "mean_dict = {}\n",
    "for layer_name in out_dict.keys():\n",
    "    mean_dict[layer_name] = math.floor(out_dict[layer_name][0])"
   ]
  },
  {
   "cell_type": "code",
   "execution_count": 32,
   "metadata": {},
   "outputs": [
    {
     "data": {
      "text/plain": [
       "{'layers.0.blocks.0.attn': 9,\n",
       " 'layers.0.blocks.1.attn': 28,\n",
       " 'layers.1.blocks.0.attn': 24,\n",
       " 'layers.1.blocks.1.attn': 19,\n",
       " 'layers.2.blocks.0.attn': 16,\n",
       " 'layers.2.blocks.1.attn': 19,\n",
       " 'layers.2.blocks.2.attn': 21,\n",
       " 'layers.2.blocks.3.attn': 21,\n",
       " 'layers.2.blocks.4.attn': 23,\n",
       " 'layers.2.blocks.5.attn': 22,\n",
       " 'layers.3.blocks.0.attn': 20,\n",
       " 'layers.3.blocks.1.attn': 16}"
      ]
     },
     "execution_count": 32,
     "metadata": {},
     "output_type": "execute_result"
    }
   ],
   "source": [
    "mean_dict"
   ]
  },
  {
   "cell_type": "code",
   "execution_count": 11,
   "metadata": {},
   "outputs": [],
   "source": [
    "my_model = attn_model(i, H, W, B, L, C, num_heads, window_size, C)"
   ]
  },
  {
   "cell_type": "code",
   "execution_count": 12,
   "metadata": {},
   "outputs": [],
   "source": [
    "# params_names = ['layers.1.blocks.0.attn']\n",
    "params_names = ['layers.3.blocks.0.attn']\n",
    "my_model.load_pretrained_weights(params_names, model)"
   ]
  },
  {
   "cell_type": "code",
   "execution_count": 16,
   "metadata": {},
   "outputs": [
    {
     "name": "stdout",
     "output_type": "stream",
     "text": [
      " x_windows shape  torch.Size([1024, 49, 768])\n",
      " q :  torch.Size([1024, 24, 49, 32])\n",
      " k :  torch.Size([1024, 24, 49, 32])\n",
      " v :  torch.Size([1024, 24, 49, 32])\n",
      "attn :  torch.Size([1024, 24, 49, 49])\n"
     ]
    }
   ],
   "source": [
    "x = torch.tensor(np.random.randint(0, 256, size=(B, H, W, C)), dtype=torch.float)\n",
    "attn_op, q, k, v, x, no_lora_flops = my_model(x)"
   ]
  },
  {
   "cell_type": "code",
   "execution_count": 88,
   "metadata": {},
   "outputs": [
    {
     "data": {
      "text/plain": [
       "7552892928"
      ]
     },
     "execution_count": 88,
     "metadata": {},
     "output_type": "execute_result"
    }
   ],
   "source": [
    "no_lora_flops"
   ]
  },
  {
   "cell_type": "code",
   "execution_count": 14,
   "metadata": {},
   "outputs": [
    {
     "data": {
      "text/plain": [
       "torch.Size([1, 224, 224, 192])"
      ]
     },
     "execution_count": 14,
     "metadata": {},
     "output_type": "execute_result"
    }
   ],
   "source": [
    "x.shape"
   ]
  },
  {
   "cell_type": "code",
   "execution_count": 76,
   "metadata": {},
   "outputs": [],
   "source": [
    "class lora_attn_model(torch.nn.Module):\n",
    "    def __init__(self, i, H, W, B, L, C, num_heads, window_size, dim, lora_rank):\n",
    "        super(lora_attn_model, self).__init__()\n",
    "        \n",
    "        self.i = i\n",
    "        self.H = H\n",
    "        self.W = W\n",
    "        self.B = B\n",
    "        self.L = L\n",
    "        self.C = C\n",
    "        self.num_heads = num_heads\n",
    "        self.window_size = window_size\n",
    "        head_dim = dim // num_heads\n",
    "        self.scale = head_dim ** -0.5\n",
    "        proj_drop = 0\n",
    "\n",
    "\n",
    "        self.qkv_layer = torch.nn.Linear(C, C * 3, bias=True)\n",
    "        self.relative_position_bias_table = torch.nn.Parameter(\n",
    "            torch.zeros((2 * window_size - 1) * (2 * window_size - 1), num_heads))  # 2*Wh-1 * 2*Ww-1, nH\n",
    "        self.proj = torch.nn.Linear(dim, dim)\n",
    "\n",
    "        \"\"\"\n",
    "        dim * dim\n",
    "        \"\"\"\n",
    "        # Defining separate weights parameters\n",
    "        self.q_wUSprime = torch.nn.Parameter(torch.FloatTensor(dim, lora_rank), requires_grad=False)\n",
    "        self.q_wVprime = torch.nn.Parameter(torch.FloatTensor(lora_rank, dim), requires_grad=False)\n",
    "        self.q_b = torch.nn.Parameter(torch.FloatTensor(dim), requires_grad=False)\n",
    "        \n",
    "\n",
    "        self.k_wUSprime = torch.nn.Parameter(torch.FloatTensor(dim, lora_rank), requires_grad=False)\n",
    "        self.k_wVprime = torch.nn.Parameter(torch.FloatTensor(lora_rank, dim), requires_grad=False)\n",
    "        self.k_b = torch.nn.Parameter(torch.FloatTensor(dim), requires_grad=False)\n",
    "\n",
    "        self.v_wUSprime = torch.nn.Parameter(torch.FloatTensor(dim, lora_rank), requires_grad=False)\n",
    "        self.v_wVprime = torch.nn.Parameter(torch.FloatTensor(lora_rank, dim), requires_grad=False)\n",
    "        self.v_b = torch.nn.Parameter(torch.FloatTensor(dim), requires_grad=False)\n",
    "\n",
    "        self.lora_rank = lora_rank\n",
    "\n",
    "        # self.lora_k = torch.nn.Parameter(torch.FloatTensor(self.window_size * self.window_size, lora_rank), requires_grad=True)\n",
    "        # self.lora_v = torch.nn.Parameter(torch.FloatTensor(self.window_size * self.window_size, lora_rank), requires_grad=True)\n",
    "        # self.lora_rpb = torch.nn.Parameter(torch.FloatTensor(self.window_size * self.window_size, lora_rank), requires_grad=True)\n",
    "        # torch.nn.init.xavier_normal_(self.lora_k)\n",
    "        # torch.nn.init.xavier_normal_(self.lora_v)\n",
    "        # torch.nn.init.xavier_normal_(self.lora_rpb)\n",
    "        self.proj_drop = torch.nn.Dropout(proj_drop)\n",
    "        \n",
    "\n",
    "        self.softmax = torch.nn.Softmax(dim=-1)\n",
    "\n",
    "        # get pair-wise relative position index for each token inside the window\n",
    "        coords_h = torch.arange(self.window_size)\n",
    "        coords_w = torch.arange(self.window_size)\n",
    "        coords = torch.stack(torch.meshgrid([coords_h, coords_w]))  # 2, Wh, Ww\n",
    "        coords_flatten = torch.flatten(coords, 1)  # 2, Wh*Ww\n",
    "        relative_coords = coords_flatten[:, :, None] - coords_flatten[:, None, :]  # 2, Wh*Ww, Wh*Ww\n",
    "        relative_coords = relative_coords.permute(1, 2, 0).contiguous()  # Wh*Ww, Wh*Ww, 2\n",
    "        relative_coords[:, :, 0] += self.window_size - 1  # shift to start from 0\n",
    "        relative_coords[:, :, 1] += self.window_size - 1\n",
    "        relative_coords[:, :, 0] *= 2 * self.window_size - 1\n",
    "        relative_position_index = relative_coords.sum(-1)  # Wh*Ww, Wh*Ww\n",
    "        self.register_buffer(\"relative_position_index\", relative_position_index)\n",
    "\n",
    "\n",
    "    def load_pretrained_weights(self, params_names_list, super_model):\n",
    "        new_sd = copy.deepcopy(self.state_dict())\n",
    "        for name in params_names_list:\n",
    "            new_sd['qkv_layer.weight'] = super_model.state_dict()[name+'.qkv.weight']\n",
    "            new_sd['qkv_layer.bias'] = super_model.state_dict()[name+'.qkv.bias']\n",
    "        \n",
    "        new_sd['relative_position_bias_table'] = super_model.state_dict()[name+'.relative_position_bias_table']\n",
    "        \n",
    "        self.load_state_dict(new_sd)\n",
    "\n",
    "    def init_low_rank_approx_weights(self):\n",
    "        new_sd = copy.deepcopy(self.state_dict())\n",
    "\n",
    "        qkv_w = self.state_dict()['qkv.weight'].T.reshape(self.dim, 3, self.dim).permute(1,0,2) # reshape (dim, dim*3) => (dim, 3, dim) ; permute (dim, 3, dim) => (3, dim, dim)\n",
    "        b = self.state_dict()['qkv.bias'].reshape(3, self.dim)\n",
    "\n",
    "        new_sd['q_b'] = b[0]\n",
    "        new_sd['k_b'] = b[1]\n",
    "        new_sd['v_b'] = b[2]\n",
    "\n",
    "        qw_uPrime, qw_sPrime, new_sd['q_wVprime'] = np.linalg.svd(qkv_w[0], full_matrices=False, compute_uv=True)\n",
    "        kw_uPrime, kw_sPrime, new_sd['q_wVprime'] = np.linalg.svd(qkv_w[1], full_matrices=False, compute_uv=True)\n",
    "        vw_uPrime, vw_sPrime, new_sd['q_wVprime'] = np.linalg.svd(qkv_w[2], full_matrices=False, compute_uv=True)\n",
    "\n",
    "        new_sd['q_wVprime'] = torch.tensor(new_sd['q_wVprime'][:self.lora_rank, :])\n",
    "        new_sd['k_wVprime'] = torch.tensor(new_sd['k_wVprime'][:self.lora_rank, :])\n",
    "        new_sd['v_wVprime'] = torch.tensor(new_sd['v_wVprime'][:self.lora_rank, :])\n",
    "\n",
    "        new_sd['q_wUSprime'] = torch.tensor( qw_uPrime[:, :self.lora_rank] @ np.diag(qw_sPrime[:self.lora_rank]) )\n",
    "        new_sd['k_wUSprime'] = torch.tensor( kw_uPrime[:, :self.lora_rank] @ np.diag(kw_sPrime[:self.lora_rank]) )\n",
    "        new_sd['v_wUSprime'] = torch.tensor( vw_uPrime[:, :self.lora_rank] @ np.diag(vw_sPrime[:self.lora_rank]) )\n",
    "        \n",
    "        self.load_state_dict(new_sd)\n",
    "    \n",
    "    def attn_flops(self):\n",
    "        flops = 0\n",
    "        # k @ lora_k\n",
    "        flops += self.k.shape[0] * self.k.shape[1] * 2 * self.lora_k.shape[2] * self.lora_k.shape[3] * self.lora_k.shape[3]\n",
    "        # q @ k_lora\n",
    "        flops += self.q.shape[0] * self.q.shape[1] * 2 * self.lora_k.shape[2] * self.lora_k.shape[3] * self.lora_k.shape[3]\n",
    "\n",
    "\n",
    "    def forward(self, x):\n",
    "        x_windows = window_partition(x, self.window_size)\n",
    "        x_windows = x_windows.view(-1, self.window_size * self.window_size, self.C)\n",
    "        B_, N_, C_ = x_windows.shape\n",
    "        #  Xn @ x_windows\n",
    "        print(\" x_windows shape \", x_windows.shape)\n",
    "\n",
    "        # Using the low Rank Approximation of qkv weights : out = X @ W.T + b, where W.T is approximated\n",
    "        q = ((x @ self.q_wUSprime) @ (self.q_wVprime)) + self.q_b\n",
    "        k = ((x @ self.k_wUSprime) @ (self.k_wVprime)) + self.k_b\n",
    "        v = ((x @ self.v_wUSprime) @ (self.v_wVprime)) + self.v_b\n",
    "\n",
    "        # qkv = self.qkv_layer(x_windows)\n",
    "        # qkv = qkv.reshape(B_, N_, 3, num_heads, C_ // num_heads).permute(2, 0, 3, 1, 4)\n",
    "        # q, k, v = qkv[0], qkv[1], qkv[2]\n",
    "        \n",
    "        q = q * self.scale\n",
    "        attn = (q @ k.transpose(-2, -1))\n",
    "\n",
    "        # k_lora = k.transpose(-2, -1) @ self.lora_k\n",
    "        # attn = (q @ k_lora)\n",
    "\n",
    "        \n",
    "        # v_lora = (v.transpose(-2, -1) @ self.lora_v).transpose(-2, -1)\n",
    "\n",
    "        print(\" q : \", q.shape)\n",
    "        print(\" k : \", k.shape)\n",
    "        print(\" v : \", v.shape)\n",
    "\n",
    "        attn = self.softmax(attn)\n",
    "        relative_position_bias = self.relative_position_bias_table[self.relative_position_index.view(-1)].view(\n",
    "            self.window_size * self.window_size, self.window_size * self.window_size, -1)  # Wh*Ww,Wh*Ww,nH\n",
    "        relative_position_bias = relative_position_bias.permute(2, 0, 1).contiguous()  # nH, Wh*Ww, Wh*Ww\n",
    "        rpb = relative_position_bias.unsqueeze(0)\n",
    "\n",
    "        # rpb_lora = rpb @ self.lora_rpb\n",
    "\n",
    "        # print(\"attn : \", attn.shape)\n",
    "        # print(\" rpb : \", rpb_lora.shape)\n",
    "        attn = attn + relative_position_bias.unsqueeze(0)\n",
    "        # attn = attn + rpb_lora\n",
    "\n",
    "        # x = (attn @ v_lora).transpose(1, 2).reshape(B_, N_, C_)\n",
    "        x = (attn @ v).transpose(1, 2).reshape(B_, N_, C_)\n",
    "        x = self.proj(x)\n",
    "        x = self.proj_drop(x)\n",
    "\n",
    "\n",
    "        flops = 0\n",
    "        # transform : k @ lora_k\n",
    "        # flops += k.shape[0] * k.shape[1] * 2 * k.shape[2] * k.shape[3] * k_lora.shape[3]\n",
    "        # # attn: q @ k_lora\n",
    "        # flops += q.shape[0] * q.shape[1] * 2 * q.shape[2] * q.shape[3] * k_lora.shape[3]\n",
    "        # # transform : v @ v_lora\n",
    "        # flops += v.shape[0] * v.shape[1] * 2 * v.shape[2] * v.shape[3] * v_lora.shape[3]\n",
    "        # # op : attn @ v_lora\n",
    "        # flops += attn.shape[0] * attn.shape[1] * 2 * attn.shape[2] * attn.shape[3] * v_lora.shape[3]\n",
    "\n",
    "        \n",
    "        return attn, q, k, v, x, flops"
   ]
  },
  {
   "cell_type": "code",
   "execution_count": 69,
   "metadata": {},
   "outputs": [],
   "source": [
    "dim = C\n",
    "x = torch.tensor(np.random.randint(0, 256, size=(B, H, W, C)), dtype=torch.float)\n",
    "my_lora_model = lora_attn_model(i, H, W, B, L, C, num_heads, window_size, dim, 20)"
   ]
  },
  {
   "cell_type": "code",
   "execution_count": 70,
   "metadata": {},
   "outputs": [
    {
     "name": "stdout",
     "output_type": "stream",
     "text": [
      " x_windows shape  torch.Size([1024, 49, 768])\n",
      " q :  torch.Size([1024, 24, 49, 32])\n",
      " k :  torch.Size([1024, 24, 49, 32])\n",
      " v :  torch.Size([1024, 24, 49, 32])\n",
      "attn :  torch.Size([1024, 24, 49, 20])\n",
      " rpb :  torch.Size([1, 24, 49, 20])\n"
     ]
    }
   ],
   "source": [
    "attn_op, q, k, v, x, flops = my_lora_model(x)"
   ]
  },
  {
   "cell_type": "code",
   "execution_count": 71,
   "metadata": {},
   "outputs": [
    {
     "data": {
      "text/plain": [
       "7090470912"
      ]
     },
     "execution_count": 71,
     "metadata": {},
     "output_type": "execute_result"
    }
   ],
   "source": [
    "flops"
   ]
  },
  {
   "cell_type": "code",
   "execution_count": 89,
   "metadata": {},
   "outputs": [
    {
     "name": "stdout",
     "output_type": "stream",
     "text": [
      "ratio =  93.87755102040816  Delta =  6.122448979591836\n"
     ]
    }
   ],
   "source": [
    "ratio = flops/no_lora_flops*100\n",
    "delta = (no_lora_flops-flops)/no_lora_flops*100\n",
    "\n",
    "print(\"ratio = \", ratio, \" Delta = \", delta)"
   ]
  },
  {
   "cell_type": "code",
   "execution_count": 20,
   "metadata": {},
   "outputs": [
    {
     "data": {
      "text/plain": [
       "torch.Size([1024, 24, 49, 49])"
      ]
     },
     "execution_count": 20,
     "metadata": {},
     "output_type": "execute_result"
    }
   ],
   "source": [
    "attn_op.shape"
   ]
  },
  {
   "cell_type": "code",
   "execution_count": 18,
   "metadata": {},
   "outputs": [
    {
     "data": {
      "text/plain": [
       "torch.Size([1024, 49, 32, 24])"
      ]
     },
     "execution_count": 18,
     "metadata": {},
     "output_type": "execute_result"
    }
   ],
   "source": [
    "# q_ = attn_op.detach().numpy()\n",
    "# q_ = q.transpose(1, 0, 2, 3)\n",
    "q_ = q.permute(0, 2, 3, 1)\n",
    "# q_ = q_.transpose()\n",
    "q_.shape"
   ]
  },
  {
   "cell_type": "markdown",
   "metadata": {},
   "source": [
    "(6, 1024, 49, 49)\n",
    "(attn heads, number of windows, window*window, window*window)"
   ]
  },
  {
   "cell_type": "code",
   "execution_count": 21,
   "metadata": {},
   "outputs": [
    {
     "data": {
      "text/plain": [
       "array([0., 0., 0., 0., 0., 0., 0., 0., 0., 0., 0., 0., 0., 0., 0., 0., 1.,\n",
       "       0., 0., 0., 0., 0., 0., 0.], dtype=float32)"
      ]
     },
     "execution_count": 21,
     "metadata": {},
     "output_type": "execute_result"
    }
   ],
   "source": [
    "q[0][0][0]"
   ]
  },
  {
   "cell_type": "code",
   "execution_count": 23,
   "metadata": {},
   "outputs": [
    {
     "data": {
      "text/plain": [
       "[<matplotlib.lines.Line2D at 0x7f376ffd9a58>]"
      ]
     },
     "execution_count": 23,
     "metadata": {},
     "output_type": "execute_result"
    },
    {
     "data": {
      "image/png": "[encoded data removed]",
      "text/plain": [
       "<Figure size 432x288 with 1 Axes>"
      ]
     },
     "metadata": {
      "needs_background": "light"
     },
     "output_type": "display_data"
    }
   ],
   "source": [
    "plt.plot(np.cumsum(svd(torch.nn.functional.softmax(q[0][0], dim=-1).detach().numpy())))\n",
    "# plt.plot(np.cumsum(q_[0][0][0]))"
   ]
  },
  {
   "cell_type": "code",
   "execution_count": 36,
   "metadata": {},
   "outputs": [],
   "source": [
    "svd_trunc =  TruncatedSVD(n_components = 20)\n",
    "q_transf = svd_trunc.fit_transform(q.detach().numpy()[0][0])"
   ]
  },
  {
   "cell_type": "code",
   "execution_count": 37,
   "metadata": {},
   "outputs": [
    {
     "data": {
      "text/plain": [
       "(49, 20)"
      ]
     },
     "execution_count": 37,
     "metadata": {},
     "output_type": "execute_result"
    }
   ],
   "source": [
    "np.array(q_transf).shape"
   ]
  },
  {
   "cell_type": "code",
   "execution_count": 39,
   "metadata": {},
   "outputs": [
    {
     "name": "stderr",
     "output_type": "stream",
     "text": [
      "/afs/andrew.cmu.edu/usr8/bmarimut/.local/lib/python3.6/site-packages/ipykernel_launcher.py:1: UserWarning: Implicit dimension choice for softmax has been deprecated. Change the call to include dim=X as an argument.\n",
      "  \"\"\"Entry point for launching an IPython kernel.\n"
     ]
    },
    {
     "data": {
      "text/plain": [
       "[<matplotlib.lines.Line2D at 0x7f375c8afc88>]"
      ]
     },
     "execution_count": 39,
     "metadata": {},
     "output_type": "execute_result"
    },
    {
     "data": {
      "image/png": "[encoded data removed]",
      "text/plain": [
       "<Figure size 432x288 with 1 Axes>"
      ]
     },
     "metadata": {
      "needs_background": "light"
     },
     "output_type": "display_data"
    }
   ],
   "source": [
    "plt.plot(np.cumsum(svd(torch.nn.functional.softmax(torch.tensor(q_transf)))))"
   ]
  },
  {
   "cell_type": "code",
   "execution_count": 41,
   "metadata": {},
   "outputs": [
    {
     "data": {
      "text/plain": [
       "torch.Size([2304, 768])"
      ]
     },
     "execution_count": 41,
     "metadata": {},
     "output_type": "execute_result"
    }
   ],
   "source": [
    "layers_3_blocks_0_attn_qkv_weight.shape"
   ]
  },
  {
   "cell_type": "code",
   "execution_count": 90,
   "metadata": {},
   "outputs": [
    {
     "data": {
      "text/plain": [
       "torch.Size([768, 2304])"
      ]
     },
     "execution_count": 90,
     "metadata": {},
     "output_type": "execute_result"
    }
   ],
   "source": [
    "layers_3_blocks_0_attn_qkv_weight.T.shape"
   ]
  },
  {
   "cell_type": "code",
   "execution_count": 92,
   "metadata": {},
   "outputs": [],
   "source": [
    "u,s,v = np.linalg.svd(layers_3_blocks_0_attn_qkv_weight, compute_uv=True)"
   ]
  },
  {
   "cell_type": "code",
   "execution_count": 89,
   "metadata": {},
   "outputs": [
    {
     "data": {
      "text/plain": [
       "[<matplotlib.lines.Line2D at 0x7f374afa4978>]"
      ]
     },
     "execution_count": 89,
     "metadata": {},
     "output_type": "execute_result"
    },
    {
     "data": {
      "image/png": "[encoded data removed]",
      "text/plain": [
       "<Figure size 432x288 with 1 Axes>"
      ]
     },
     "metadata": {
      "needs_background": "light"
     },
     "output_type": "display_data"
    }
   ],
   "source": [
    "plt.plot(np.cumsum(svd(layers_3_blocks_0_attn_qkv_weight.T)))"
   ]
  },
  {
   "cell_type": "code",
   "execution_count": 111,
   "metadata": {},
   "outputs": [
    {
     "data": {
      "text/plain": [
       "torch.Size([2304, 768])"
      ]
     },
     "execution_count": 111,
     "metadata": {},
     "output_type": "execute_result"
    }
   ],
   "source": [
    "layers_3_blocks_0_attn_qkv_weight.shape"
   ]
  },
  {
   "cell_type": "code",
   "execution_count": 112,
   "metadata": {},
   "outputs": [],
   "source": [
    "qkv_w = layers_3_blocks_0_attn_qkv_weight.T.reshape(768, 3, 2304//3).permute(1,0,2)"
   ]
  },
  {
   "cell_type": "code",
   "execution_count": 129,
   "metadata": {},
   "outputs": [
    {
     "data": {
      "text/plain": [
       "torch.Size([2304, 768])"
      ]
     },
     "execution_count": 129,
     "metadata": {},
     "output_type": "execute_result"
    }
   ],
   "source": [
    "layers_3_blocks_0_attn_qkv_weight.shape"
   ]
  },
  {
   "cell_type": "code",
   "execution_count": 117,
   "metadata": {},
   "outputs": [
    {
     "data": {
      "text/plain": [
       "[<matplotlib.lines.Line2D at 0x7f374a5d05f8>]"
      ]
     },
     "execution_count": 117,
     "metadata": {},
     "output_type": "execute_result"
    },
    {
     "data": {
      "image/png": "[encoded data removed]",
      "text/plain": [
       "<Figure size 432x288 with 1 Axes>"
      ]
     },
     "metadata": {
      "needs_background": "light"
     },
     "output_type": "display_data"
    }
   ],
   "source": [
    "plt.plot(np.cumsum(svd(v_w)))\n",
    "# plt.plot(np.cumsum(svd(torch.nn.functional.softmax(q_w, dim=-1).detach().numpy())))"
   ]
  },
  {
   "cell_type": "code",
   "execution_count": 118,
   "metadata": {},
   "outputs": [],
   "source": [
    "# qkv_w = layers_3_blocks_0_attn_qkv_weight.reshape(2304, 3, 768//3).permute(1,0,2)\n",
    "q_w = qkv_w[0]\n",
    "k_w = qkv_w[1] \n",
    "v_w = qkv_w[2] "
   ]
  },
  {
   "cell_type": "code",
   "execution_count": 88,
   "metadata": {},
   "outputs": [
    {
     "data": {
      "text/plain": [
       "torch.Size([3, 2304, 256])"
      ]
     },
     "execution_count": 88,
     "metadata": {},
     "output_type": "execute_result"
    }
   ],
   "source": [
    "qkv_w.shape"
   ]
  },
  {
   "cell_type": "code",
   "execution_count": 119,
   "metadata": {},
   "outputs": [
    {
     "data": {
      "text/plain": [
       "torch.Size([768, 768])"
      ]
     },
     "execution_count": 119,
     "metadata": {},
     "output_type": "execute_result"
    }
   ],
   "source": [
    "v_w.shape"
   ]
  },
  {
   "cell_type": "code",
   "execution_count": 79,
   "metadata": {},
   "outputs": [],
   "source": [
    "u,s,v = np.linalg.svd(q_w, compute_uv=True)\n",
    "# svd(torch.nn.functional.softmax(q_w), full_matrices=True)"
   ]
  },
  {
   "cell_type": "code",
   "execution_count": 85,
   "metadata": {},
   "outputs": [
    {
     "data": {
      "text/plain": [
       "5.7457476"
      ]
     },
     "execution_count": 85,
     "metadata": {},
     "output_type": "execute_result"
    }
   ],
   "source": [
    "max(s)"
   ]
  },
  {
   "cell_type": "code",
   "execution_count": 120,
   "metadata": {},
   "outputs": [],
   "source": [
    "uPrime, sPrime, vPrime = np.linalg.svd(v_w, full_matrices=False, compute_uv=True)\n"
   ]
  },
  {
   "cell_type": "code",
   "execution_count": 121,
   "metadata": {},
   "outputs": [
    {
     "name": "stdout",
     "output_type": "stream",
     "text": [
      "(768, 768) (768,) (768, 768)\n"
     ]
    }
   ],
   "source": [
    "print(uPrime.shape, sPrime.shape, vPrime.shape)"
   ]
  },
  {
   "cell_type": "code",
   "execution_count": 123,
   "metadata": {},
   "outputs": [],
   "source": [
    "trunc_val = 350"
   ]
  },
  {
   "cell_type": "code",
   "execution_count": 124,
   "metadata": {},
   "outputs": [],
   "source": [
    "low_rank_vw = uPrime[:, :trunc_val] @ np.diag(sPrime[:trunc_val]) @ vPrime[:trunc_val, :]"
   ]
  },
  {
   "cell_type": "code",
   "execution_count": 127,
   "metadata": {},
   "outputs": [
    {
     "data": {
      "text/plain": [
       "(768, 350)"
      ]
     },
     "execution_count": 127,
     "metadata": {},
     "output_type": "execute_result"
    }
   ],
   "source": [
    "uPP = uPrime[:, :trunc_val] @ np.diag(sPrime[:trunc_val])\n",
    "uPP.shape"
   ]
  },
  {
   "cell_type": "code",
   "execution_count": 130,
   "metadata": {},
   "outputs": [
    {
     "data": {
      "text/plain": [
       "(350, 768)"
      ]
     },
     "execution_count": 130,
     "metadata": {},
     "output_type": "execute_result"
    }
   ],
   "source": [
    "vPrime[:trunc_val, :].shape"
   ]
  },
  {
   "cell_type": "code",
   "execution_count": 128,
   "metadata": {},
   "outputs": [
    {
     "data": {
      "text/plain": [
       "torch.Size([768, 768])"
      ]
     },
     "execution_count": 128,
     "metadata": {},
     "output_type": "execute_result"
    }
   ],
   "source": [
    "v_w.shape"
   ]
  },
  {
   "cell_type": "code",
   "execution_count": 125,
   "metadata": {},
   "outputs": [
    {
     "data": {
      "text/plain": [
       "array([[-0.02858894,  0.01302148,  0.01605037, ..., -0.01522799,\n",
       "         0.06054224, -0.02956625],\n",
       "       [-0.0206921 ,  0.01478771,  0.01176441, ..., -0.06309901,\n",
       "         0.02963198, -0.02792705],\n",
       "       [-0.0121218 ,  0.01902911, -0.06406058, ...,  0.038522  ,\n",
       "         0.07085029,  0.03507822],\n",
       "       ...,\n",
       "       [ 0.05346682, -0.07752582, -0.07120977, ...,  0.02387831,\n",
       "        -0.03859507,  0.02546671],\n",
       "       [ 0.05451753, -0.00110611, -0.00948278, ...,  0.00569572,\n",
       "        -0.05594096,  0.01312127],\n",
       "       [-0.07931267,  0.08638148, -0.03543062, ..., -0.03379454,\n",
       "        -0.06551757, -0.01829359]], dtype=float32)"
      ]
     },
     "execution_count": 125,
     "metadata": {},
     "output_type": "execute_result"
    }
   ],
   "source": [
    "low_rank_vw"
   ]
  },
  {
   "cell_type": "code",
   "execution_count": 104,
   "metadata": {},
   "outputs": [
    {
     "data": {
      "text/plain": [
       "False"
      ]
     },
     "execution_count": 104,
     "metadata": {},
     "output_type": "execute_result"
    }
   ],
   "source": [
    "lora_qkv  = (uPrime * sPrime) @ vPrime\n",
    "np.allclose(layers_3_blocks_0_attn_qkv_weight, lora_qkv)"
   ]
  },
  {
   "cell_type": "code",
   "execution_count": 108,
   "metadata": {},
   "outputs": [
    {
     "name": "stdout",
     "output_type": "stream",
     "text": [
      "tensor(0.0785) 0.07854651\n"
     ]
    }
   ],
   "source": [
    "print(layers_3_blocks_0_attn_qkv_weight[1][1], lora_qkv[1][1])"
   ]
  },
  {
   "cell_type": "code",
   "execution_count": 99,
   "metadata": {},
   "outputs": [
    {
     "data": {
      "text/plain": [
       "[<matplotlib.lines.Line2D at 0x7f374ac64518>]"
      ]
     },
     "execution_count": 99,
     "metadata": {},
     "output_type": "execute_result"
    },
    {
     "data": {
      "image/png": "[encoded data removed]",
      "text/plain": [
       "<Figure size 432x288 with 1 Axes>"
      ]
     },
     "metadata": {
      "needs_background": "light"
     },
     "output_type": "display_data"
    }
   ],
   "source": [
    "plt.plot(np.cumsum(layers_3_blocks_0_attn_qkv_weight))\n",
    "plt.plot(np.cumsum(lora_qkv))"
   ]
  },
  {
   "cell_type": "code",
   "execution_count": 87,
   "metadata": {},
   "outputs": [
    {
     "data": {
      "text/plain": [
       "array([220, 222, 222])"
      ]
     },
     "execution_count": 87,
     "metadata": {},
     "output_type": "execute_result"
    }
   ],
   "source": [
    "np.linalg.matrix_rank(qkv_w, tol=0.9)"
   ]
  },
  {
   "cell_type": "code",
   "execution_count": 77,
   "metadata": {},
   "outputs": [
    {
     "name": "stderr",
     "output_type": "stream",
     "text": [
      "/afs/andrew.cmu.edu/usr8/bmarimut/.local/lib/python3.6/site-packages/ipykernel_launcher.py:1: UserWarning: Implicit dimension choice for softmax has been deprecated. Change the call to include dim=X as an argument.\n",
      "  \"\"\"Entry point for launching an IPython kernel.\n"
     ]
    },
    {
     "data": {
      "text/plain": [
       "[<matplotlib.lines.Line2D at 0x7f374a8f6e80>]"
      ]
     },
     "execution_count": 77,
     "metadata": {},
     "output_type": "execute_result"
    },
    {
     "data": {
      "image/png": "[encoded data removed]",
      "text/plain": [
       "<Figure size 432x288 with 1 Axes>"
      ]
     },
     "metadata": {
      "needs_background": "light"
     },
     "output_type": "display_data"
    }
   ],
   "source": [
    "plt.plot(np.cumsum(svd(torch.nn.functional.softmax(q_w))))"
   ]
  },
  {
   "cell_type": "code",
   "execution_count": 68,
   "metadata": {},
   "outputs": [
    {
     "data": {
      "text/plain": [
       "[<matplotlib.lines.Line2D at 0x7f374ab848d0>]"
      ]
     },
     "execution_count": 68,
     "metadata": {},
     "output_type": "execute_result"
    },
    {
     "data": {
      "image/png": "[encoded data removed]",
      "text/plain": [
       "<Figure size 432x288 with 1 Axes>"
      ]
     },
     "metadata": {
      "needs_background": "light"
     },
     "output_type": "display_data"
    }
   ],
   "source": [
    "plt.plot(np.cumsum(svd(q_w)))\n",
    "plt.plot(np.cumsum(svd(k_w)))\n",
    "plt.plot(np.cumsum(svd(v_w)))"
   ]
  },
  {
   "cell_type": "code",
   "execution_count": 66,
   "metadata": {},
   "outputs": [
    {
     "data": {
      "text/plain": [
       "[<matplotlib.lines.Line2D at 0x7f374ac1a3c8>]"
      ]
     },
     "execution_count": 66,
     "metadata": {},
     "output_type": "execute_result"
    },
    {
     "data": {
      "image/png": "[encoded data removed]",
      "text/plain": [
       "<Figure size 432x288 with 1 Axes>"
      ]
     },
     "metadata": {
      "needs_background": "light"
     },
     "output_type": "display_data"
    }
   ],
   "source": [
    "plt.plot(np.cumsum(svd(layers_3_blocks_0_attn_qkv_weight)))\n",
    "plt.plot(np.cumsum(svd(q_w)))\n",
    "plt.plot(np.cumsum(svd(k_w)))\n",
    "plt.plot(np.cumsum(svd(v_w)))"
   ]
  },
  {
   "cell_type": "code",
   "execution_count": 96,
   "metadata": {},
   "outputs": [
    {
     "data": {
      "text/plain": [
       "[<matplotlib.lines.Line2D at 0x7f374ac5f908>]"
      ]
     },
     "execution_count": 96,
     "metadata": {},
     "output_type": "execute_result"
    },
    {
     "data": {
      "image/png": "[encoded data removed]",
      "text/plain": [
       "<Figure size 432x288 with 1 Axes>"
      ]
     },
     "metadata": {
      "needs_background": "light"
     },
     "output_type": "display_data"
    }
   ],
   "source": [
    "plt.plot(np.cumsum(svd(layers_3_blocks_0_attn_qkv_weight)))"
   ]
  },
  {
   "cell_type": "code",
   "execution_count": 42,
   "metadata": {},
   "outputs": [
    {
     "name": "stderr",
     "output_type": "stream",
     "text": [
      "/afs/andrew.cmu.edu/usr8/bmarimut/.local/lib/python3.6/site-packages/ipykernel_launcher.py:1: UserWarning: Implicit dimension choice for softmax has been deprecated. Change the call to include dim=X as an argument.\n",
      "  \"\"\"Entry point for launching an IPython kernel.\n"
     ]
    },
    {
     "data": {
      "text/plain": [
       "[<matplotlib.lines.Line2D at 0x7f375c8a5208>]"
      ]
     },
     "execution_count": 42,
     "metadata": {},
     "output_type": "execute_result"
    },
    {
     "data": {
      "image/png": "[encoded data removed]",
      "text/plain": [
       "<Figure size 432x288 with 1 Axes>"
      ]
     },
     "metadata": {
      "needs_background": "light"
     },
     "output_type": "display_data"
    }
   ],
   "source": [
    "plt.plot(np.cumsum(svd(torch.nn.functional.softmax(layers_3_blocks_0_attn_qkv_weight))))"
   ]
  },
  {
   "cell_type": "code",
   "execution_count": 53,
   "metadata": {},
   "outputs": [],
   "source": [
    "svd_w = svd(layers_3_blocks_0_attn_qkv_weight)"
   ]
  },
  {
   "cell_type": "code",
   "execution_count": 56,
   "metadata": {},
   "outputs": [
    {
     "data": {
      "text/plain": [
       "(768,)"
      ]
     },
     "execution_count": 56,
     "metadata": {},
     "output_type": "execute_result"
    }
   ],
   "source": [
    "svd_w.shape"
   ]
  },
  {
   "cell_type": "code",
   "execution_count": 57,
   "metadata": {},
   "outputs": [
    {
     "name": "stdout",
     "output_type": "stream",
     "text": [
      "tensor([[   0,    0,    0,  ..., 1023, 1023, 1023],\n",
      "        [   0,    0,    0,  ...,   48,   48,   48],\n",
      "        [   1,    2,    4,  ...,  764,  765,  766]])\n"
     ]
    }
   ],
   "source": [
    "rank_r = np.argwhere(x > (0.8 * np.max(svd_w)))\n",
    "print(rank_r)"
   ]
  },
  {
   "cell_type": "code",
   "execution_count": 109,
   "metadata": {},
   "outputs": [],
   "source": [
    "svd_trunc =  TruncatedSVD(n_components = 768)\n",
    "w_transf = svd_trunc.fit_transform(layers_3_blocks_0_attn_qkv_weight.T.detach().numpy())"
   ]
  },
  {
   "cell_type": "code",
   "execution_count": 110,
   "metadata": {},
   "outputs": [
    {
     "data": {
      "text/plain": [
       "(768, 768)"
      ]
     },
     "execution_count": 110,
     "metadata": {},
     "output_type": "execute_result"
    }
   ],
   "source": [
    "w_transf.shape"
   ]
  },
  {
   "cell_type": "code",
   "execution_count": 44,
   "metadata": {},
   "outputs": [
    {
     "data": {
      "text/plain": [
       "[<matplotlib.lines.Line2D at 0x7f374afeb320>]"
      ]
     },
     "execution_count": 44,
     "metadata": {},
     "output_type": "execute_result"
    },
    {
     "data": {
      "image/png": "[encoded data removed]",
      "text/plain": [
       "<Figure size 432x288 with 1 Axes>"
      ]
     },
     "metadata": {
      "needs_background": "light"
     },
     "output_type": "display_data"
    }
   ],
   "source": [
    "plt.plot(np.cumsum(svd(w_transf)))"
   ]
  },
  {
   "cell_type": "code",
   "execution_count": 46,
   "metadata": {},
   "outputs": [
    {
     "data": {
      "text/plain": [
       "[<matplotlib.lines.Line2D at 0x7f374af4b390>]"
      ]
     },
     "execution_count": 46,
     "metadata": {},
     "output_type": "execute_result"
    },
    {
     "data": {
      "image/png": "[encoded data removed]",
      "text/plain": [
       "<Figure size 432x288 with 1 Axes>"
      ]
     },
     "metadata": {
      "needs_background": "light"
     },
     "output_type": "display_data"
    }
   ],
   "source": [
    "plt.plot(np.cumsum(svd(w_transf)))"
   ]
  },
  {
   "cell_type": "code",
   "execution_count": 25,
   "metadata": {},
   "outputs": [
    {
     "name": "stdout",
     "output_type": "stream",
     "text": [
      "Original Matrix:\n",
      "[[-1  2  0]\n",
      " [ 2  0 -2]\n",
      " [ 0 -2  1]]\n",
      "Singular values:\n",
      "[3. 3.]\n",
      "Transformed Matrix after reducing to 2 features:\n",
      "[[-1.78885438e+00 -1.34164079e+00]\n",
      " [-8.94427191e-01  2.68328157e+00]\n",
      " [ 2.23606798e+00  2.22044605e-16]]\n"
     ]
    }
   ],
   "source": [
    "import numpy as np\n",
    "from sklearn.decomposition import TruncatedSVD\n",
    "\n",
    "A = np.array([[-1, 2, 0], [2, 0, -2], [0, -2, 1]])\n",
    "print(\"Original Matrix:\")\n",
    "print(A)\n",
    "\n",
    "svd =  TruncatedSVD(n_components = 2)\n",
    "A_transf = svd.fit_transform(A)\n",
    "\n",
    "print(\"Singular values:\")\n",
    "print(svd.singular_values_)\n",
    "\n",
    "print(\"Transformed Matrix after reducing to 2 features:\")\n",
    "print(A_transf)"
   ]
  },
  {
   "cell_type": "code",
   "execution_count": 28,
   "metadata": {},
   "outputs": [
    {
     "data": {
      "image/png": "[encoded data removed]",
      "text/plain": [
       "<Figure size 432x288 with 1 Axes>"
      ]
     },
     "metadata": {
      "needs_background": "light"
     },
     "output_type": "display_data"
    }
   ],
   "source": [
    "for i in range(0, q_.shape[1], 256):\n",
    "    plt.plot(np.argmax(np.cumsum(svd(q_[0][i]))), label = \"attn output\")"
   ]
  },
  {
   "cell_type": "code",
   "execution_count": 34,
   "metadata": {},
   "outputs": [
    {
     "data": {
      "image/png": "[encoded data removed]",
      "text/plain": [
       "<Figure size 432x288 with 1 Axes>"
      ]
     },
     "metadata": {
      "needs_background": "light"
     },
     "output_type": "display_data"
    }
   ],
   "source": [
    "\n",
    "across_heads_x = []\n",
    "for j in range(0, q_.shape[0], 1):\n",
    "    x = []\n",
    "    y = []\n",
    "    for i in range(0, q_.shape[1], 1):\n",
    "        a = np.cumsum(svd(q_[0][i]))\n",
    "        # print(len(a))\n",
    "        idx = np.argmax(a)\n",
    "        x.append(idx)\n",
    "        y.append(a[idx])\n",
    "        # plt.plot(a[idx], label = \"attn output\")\n",
    "    across_heads_x.append(np.percentile(x,80))\n",
    "# plt.scatter(x, y)\n",
    "# plt.show()"
   ]
  },
  {
   "cell_type": "code",
   "execution_count": 36,
   "metadata": {},
   "outputs": [],
   "source": [
    "across_heads_x = []\n",
    "for j in range(0, q_.shape[0], 1):\n",
    "    x = []\n",
    "    y = []\n",
    "    for i in range(0, q_.shape[1], 1):\n",
    "        a = np.cumsum(svd(q_[j][i]))\n",
    "        # print(len(a))\n",
    "        idx = np.argmax(a)\n",
    "        x.append(idx)\n",
    "        y.append(a[idx])\n",
    "        # plt.plot(a[idx], label = \"attn output\")\n",
    "    across_heads_x.append(np.percentile(x,80))"
   ]
  },
  {
   "cell_type": "code",
   "execution_count": 37,
   "metadata": {},
   "outputs": [
    {
     "name": "stdout",
     "output_type": "stream",
     "text": [
      "Mean =  20.166666666666668\n",
      "90th percentile =  22.7\n",
      "80th percentile =  21.0\n"
     ]
    }
   ],
   "source": [
    "print(\"Mean = \", np.mean(across_heads_x))\n",
    "print(\"90th percentile = \", np.percentile(across_heads_x, 90))\n",
    "print(\"80th percentile = \", np.percentile(across_heads_x, 80))"
   ]
  },
  {
   "cell_type": "code",
   "execution_count": 35,
   "metadata": {},
   "outputs": [
    {
     "data": {
      "text/plain": [
       "19.0"
      ]
     },
     "execution_count": 35,
     "metadata": {},
     "output_type": "execute_result"
    }
   ],
   "source": [
    "np.percentile(x,80)"
   ]
  },
  {
   "cell_type": "code",
   "execution_count": 141,
   "metadata": {},
   "outputs": [
    {
     "data": {
      "text/plain": [
       "[<matplotlib.lines.Line2D at 0x7f5f080e6748>]"
      ]
     },
     "execution_count": 141,
     "metadata": {},
     "output_type": "execute_result"
    },
    {
     "data": {
      "image/png": "[encoded data removed]",
      "text/plain": [
       "<Figure size 432x288 with 1 Axes>"
      ]
     },
     "metadata": {
      "needs_background": "light"
     },
     "output_type": "display_data"
    }
   ],
   "source": [
    "plt.plot(np.cumsum(svd(attn_op.detach().numpy())))"
   ]
  },
  {
   "cell_type": "code",
   "execution_count": 63,
   "metadata": {},
   "outputs": [
    {
     "ename": "KeyError",
     "evalue": "'relative_position_bias_table'",
     "output_type": "error",
     "traceback": [
      "\u001b[0;31m---------------------------------------------------------------------------\u001b[0m",
      "\u001b[0;31mKeyError\u001b[0m                                  Traceback (most recent call last)",
      "\u001b[0;32m<ipython-input-63-4e4c174bc5b1>\u001b[0m in \u001b[0;36m<module>\u001b[0;34m\u001b[0m\n\u001b[0;32m----> 1\u001b[0;31m \u001b[0mmodel\u001b[0m\u001b[0;34m.\u001b[0m\u001b[0mstate_dict\u001b[0m\u001b[0;34m(\u001b[0m\u001b[0;34m)\u001b[0m\u001b[0;34m[\u001b[0m\u001b[0;34m'relative_position_bias_table'\u001b[0m\u001b[0;34m]\u001b[0m\u001b[0;34m\u001b[0m\u001b[0;34m\u001b[0m\u001b[0m\n\u001b[0m",
      "\u001b[0;31mKeyError\u001b[0m: 'relative_position_bias_table'"
     ]
    }
   ],
   "source": [
    "model.state_dict()['relative_position_bias_table']"
   ]
  },
  {
   "cell_type": "code",
   "execution_count": 64,
   "metadata": {},
   "outputs": [],
   "source": [
    "relative_position_bias_table_keys = [k for k in model.state_dict().keys() if \"relative_position_bias_table\" in k]"
   ]
  },
  {
   "cell_type": "code",
   "execution_count": 65,
   "metadata": {},
   "outputs": [
    {
     "data": {
      "text/plain": [
       "['layers.0.blocks.0.attn.relative_position_bias_table',\n",
       " 'layers.0.blocks.1.attn.relative_position_bias_table',\n",
       " 'layers.1.blocks.0.attn.relative_position_bias_table',\n",
       " 'layers.1.blocks.1.attn.relative_position_bias_table',\n",
       " 'layers.2.blocks.0.attn.relative_position_bias_table',\n",
       " 'layers.2.blocks.1.attn.relative_position_bias_table',\n",
       " 'layers.2.blocks.2.attn.relative_position_bias_table',\n",
       " 'layers.2.blocks.3.attn.relative_position_bias_table',\n",
       " 'layers.2.blocks.4.attn.relative_position_bias_table',\n",
       " 'layers.2.blocks.5.attn.relative_position_bias_table',\n",
       " 'layers.3.blocks.0.attn.relative_position_bias_table',\n",
       " 'layers.3.blocks.1.attn.relative_position_bias_table']"
      ]
     },
     "execution_count": 65,
     "metadata": {},
     "output_type": "execute_result"
    }
   ],
   "source": [
    "relative_position_bias_table_keys"
   ]
  },
  {
   "cell_type": "code",
   "execution_count": 30,
   "metadata": {},
   "outputs": [],
   "source": [
    "x_windows = x_windows.view(-1, window_size * window_size, C)"
   ]
  },
  {
   "cell_type": "code",
   "execution_count": 31,
   "metadata": {},
   "outputs": [
    {
     "data": {
      "text/plain": [
       "torch.Size([10240, 49, 96])"
      ]
     },
     "execution_count": 31,
     "metadata": {},
     "output_type": "execute_result"
    }
   ],
   "source": [
    "x_windows.shape"
   ]
  },
  {
   "cell_type": "code",
   "execution_count": 32,
   "metadata": {},
   "outputs": [],
   "source": [
    "x = x_windows\n",
    "B_, N, C = x.shape\n",
    "qkv_layer = torch.nn.Linear(C, C * 3, bias=True)"
   ]
  },
  {
   "cell_type": "code",
   "execution_count": 43,
   "metadata": {},
   "outputs": [
    {
     "name": "stdout",
     "output_type": "stream",
     "text": [
      "torch.Size([288, 96])\n"
     ]
    }
   ],
   "source": [
    "params = qkv_layer.named_parameters()\n",
    "copy_params = [(m[1], m[0]) for m in qkv_layer.named_parameters()]\n",
    "print(qkv_layer.state_dict()['weight'].shape)"
   ]
  },
  {
   "cell_type": "code",
   "execution_count": 33,
   "metadata": {},
   "outputs": [],
   "source": [
    "layers_0_blocks_0_attn_qkv_weight = model.state_dict()['layers.0.blocks.0.attn.qkv.weight']"
   ]
  },
  {
   "cell_type": "code",
   "execution_count": 44,
   "metadata": {},
   "outputs": [],
   "source": [
    "def get_model_weight(weight_name):\n",
    "    return model.state_dict()[weight_name]"
   ]
  },
  {
   "cell_type": "code",
   "execution_count": 46,
   "metadata": {},
   "outputs": [
    {
     "data": {
      "text/plain": [
       "<All keys matched successfully>"
      ]
     },
     "execution_count": 46,
     "metadata": {},
     "output_type": "execute_result"
    }
   ],
   "source": [
    "import copy\n",
    "\n",
    "new_sd = copy.deepcopy(qkv_layer.state_dict())\n",
    "new_sd['weight'] = get_model_weight('layers.0.blocks.0.attn.qkv.weight')\n",
    "new_sd['bias'] = get_model_weight('layers.0.blocks.0.attn.qkv.bias')\n",
    "qkv_layer.load_state_dict(new_sd)"
   ]
  },
  {
   "cell_type": "code",
   "execution_count": 47,
   "metadata": {},
   "outputs": [],
   "source": [
    "relative_position_bias_table = torch.nn.Parameter(\n",
    "            torch.zeros((2 * window_size - 1) * (2 * window_size - 1), num_heads))  # 2*Wh-1 * 2*Ww-1, nH"
   ]
  },
  {
   "cell_type": "code",
   "execution_count": 50,
   "metadata": {},
   "outputs": [
    {
     "ename": "AttributeError",
     "evalue": "'Parameter' object has no attribute 'state_dict'",
     "output_type": "error",
     "traceback": [
      "\u001b[0;31m---------------------------------------------------------------------------\u001b[0m",
      "\u001b[0;31mAttributeError\u001b[0m                            Traceback (most recent call last)",
      "\u001b[0;32m<ipython-input-50-c4edcb0f864d>\u001b[0m in \u001b[0;36m<module>\u001b[0;34m\u001b[0m\n\u001b[0;32m----> 1\u001b[0;31m \u001b[0mrelative_position_bias_table\u001b[0m\u001b[0;34m.\u001b[0m\u001b[0mstate_dict\u001b[0m\u001b[0;34m(\u001b[0m\u001b[0;34m)\u001b[0m\u001b[0;34m\u001b[0m\u001b[0;34m\u001b[0m\u001b[0m\n\u001b[0m",
      "\u001b[0;31mAttributeError\u001b[0m: 'Parameter' object has no attribute 'state_dict'"
     ]
    }
   ],
   "source": [
    "relative_position_bias_table.state_dict()"
   ]
  },
  {
   "cell_type": "code",
   "execution_count": 34,
   "metadata": {},
   "outputs": [
    {
     "data": {
      "text/plain": [
       "torch.Size([288, 96])"
      ]
     },
     "execution_count": 34,
     "metadata": {},
     "output_type": "execute_result"
    }
   ],
   "source": [
    "layers_0_blocks_0_attn_qkv_weight.shape"
   ]
  },
  {
   "cell_type": "code",
   "execution_count": null,
   "metadata": {},
   "outputs": [],
   "source": [
    "qkv =qkv_layer(x).reshape(B_, N, 3, num_heads, C // num_heads).permute(2, 0, 3, 1, 4)"
   ]
  },
  {
   "cell_type": "code",
   "execution_count": 24,
   "metadata": {},
   "outputs": [
    {
     "data": {
      "text/plain": [
       "torch.Size([10240, 49, 96])"
      ]
     },
     "execution_count": 24,
     "metadata": {},
     "output_type": "execute_result"
    }
   ],
   "source": [
    "x_windows.shape"
   ]
  },
  {
   "cell_type": "code",
   "execution_count": 10,
   "metadata": {},
   "outputs": [
    {
     "data": {
      "text/plain": [
       "torch.Size([288, 96])"
      ]
     },
     "execution_count": 10,
     "metadata": {},
     "output_type": "execute_result"
    }
   ],
   "source": [
    "layers_0_blocks_1_attn_qkv_weight.size()\n"
   ]
  },
  {
   "cell_type": "code",
   "execution_count": 15,
   "metadata": {},
   "outputs": [
    {
     "data": {
      "text/plain": [
       "(1, 96)"
      ]
     },
     "execution_count": 15,
     "metadata": {},
     "output_type": "execute_result"
    }
   ],
   "source": [
    "m = np.random.rand(1,96)\n",
    "m.shape"
   ]
  },
  {
   "cell_type": "code",
   "execution_count": 15,
   "metadata": {},
   "outputs": [
    {
     "data": {
      "text/plain": [
       "(1, 96)"
      ]
     },
     "execution_count": 15,
     "metadata": {},
     "output_type": "execute_result"
    }
   ],
   "source": [
    "m.shape"
   ]
  },
  {
   "cell_type": "code",
   "execution_count": 13,
   "metadata": {},
   "outputs": [
    {
     "data": {
      "text/plain": [
       "[<matplotlib.lines.Line2D at 0x7f5f0940be10>]"
      ]
     },
     "execution_count": 13,
     "metadata": {},
     "output_type": "execute_result"
    },
    {
     "data": {
      "image/png": "[encoded data removed]",
      "text/plain": [
       "<Figure size 432x288 with 1 Axes>"
      ]
     },
     "metadata": {
      "needs_background": "light"
     },
     "output_type": "display_data"
    }
   ],
   "source": [
    "# plt.plot(svd(m))\n",
    "\n",
    "plt.plot(np.cumsum(svd(layers_0_blocks_1_attn_qkv_weight.numpy())))\n",
    "# plt.show()"
   ]
  },
  {
   "cell_type": "code",
   "execution_count": 23,
   "metadata": {},
   "outputs": [
    {
     "ename": "TypeError",
     "evalue": "'int' object is not callable",
     "output_type": "error",
     "traceback": [
      "\u001b[0;31m---------------------------------------------------------------------------\u001b[0m",
      "\u001b[0;31mTypeError\u001b[0m                                 Traceback (most recent call last)",
      "\u001b[0;32m<ipython-input-23-2f087e01bd42>\u001b[0m in \u001b[0;36m<module>\u001b[0;34m\u001b[0m\n\u001b[0;32m----> 1\u001b[0;31m \u001b[0;34m(\u001b[0m\u001b[0mm\u001b[0m\u001b[0;34m.\u001b[0m\u001b[0mT\u001b[0m\u001b[0;34m)\u001b[0m\u001b[0;34m.\u001b[0m\u001b[0msize\u001b[0m\u001b[0;34m(\u001b[0m\u001b[0;34m)\u001b[0m\u001b[0;34m\u001b[0m\u001b[0;34m\u001b[0m\u001b[0m\n\u001b[0m",
      "\u001b[0;31mTypeError\u001b[0m: 'int' object is not callable"
     ]
    }
   ],
   "source": [
    "(m.T).size()"
   ]
  },
  {
   "cell_type": "code",
   "execution_count": 16,
   "metadata": {},
   "outputs": [
    {
     "data": {
      "text/plain": [
       "[<matplotlib.lines.Line2D at 0x7f5f09320160>]"
      ]
     },
     "execution_count": 16,
     "metadata": {},
     "output_type": "execute_result"
    },
    {
     "data": {
      "image/png": "[encoded data removed]",
      "text/plain": [
       "<Figure size 432x288 with 1 Axes>"
      ]
     },
     "metadata": {
      "needs_background": "light"
     },
     "output_type": "display_data"
    }
   ],
   "source": [
    "plt.plot(np.cumsum(svd(layers_0_blocks_1_attn_qkv_weight.numpy() @ m.T)))"
   ]
  },
  {
   "cell_type": "code",
   "execution_count": null,
   "metadata": {},
   "outputs": [],
   "source": []
  }
 ],
 "metadata": {
  "kernelspec": {
   "display_name": "Python 3.6.8 64-bit",
   "language": "python",
   "name": "python3"
  },
  "language_info": {
   "codemirror_mode": {
    "name": "ipython",
    "version": 3
   },
   "file_extension": ".py",
   "mimetype": "text/x-python",
   "name": "python",
   "nbconvert_exporter": "python",
   "pygments_lexer": "ipython3",
   "version": "3.6.8"
  },
  "orig_nbformat": 4,
  "vscode": {
   "interpreter": {
    "hash": "31f2aee4e71d21fbe5cf8b01ff0e069b9275f58929596ceb00d14d90e3e16cd6"
   }
  }
 },
 "nbformat": 4,
 "nbformat_minor": 2
}
